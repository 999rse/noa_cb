{
 "cells": [
  {
   "cell_type": "code",
   "execution_count": null,
   "metadata": {},
   "outputs": [],
   "source": [
    "import pandas as pd\n",
    "import numpy as np\n",
    "\n",
    "from sklearn.model_selection import train_test_split\n",
    "#from sklearn.metrics import \n",
    "\n",
    "import torch\n",
    "import torch.nn as nn\n",
    "from torch.utils.data import DataLoader, TensorDataset"
   ]
  },
  {
   "cell_type": "markdown",
   "metadata": {},
   "source": [
    "-----\n",
    "### Train, valid split"
   ]
  },
  {
   "cell_type": "code",
   "execution_count": null,
   "metadata": {},
   "outputs": [],
   "source": [
    "pars_smp_train = np.load('data/pars_smp_train.npy')\n",
    "y_smp_train = np.load('data/y_smp_train.npy')"
   ]
  },
  {
   "cell_type": "code",
   "execution_count": null,
   "metadata": {},
   "outputs": [],
   "source": [
    "pars_smp_train.shape, y_smp_train.shape"
   ]
  },
  {
   "cell_type": "code",
   "execution_count": null,
   "metadata": {},
   "outputs": [],
   "source": [
    "small_pars_smp_train = pars_smp_train[:1000000].copy()\n",
    "small_y_smp_train = y_smp_train[:1000000].copy()"
   ]
  },
  {
   "cell_type": "code",
   "execution_count": null,
   "metadata": {},
   "outputs": [],
   "source": [
    "X_train, X_valid, y_train, y_valid = train_test_split(small_pars_smp_train, small_y_smp_train, test_size=0.2, shuffle=False, random_state=178)"
   ]
  },
  {
   "cell_type": "code",
   "execution_count": null,
   "metadata": {},
   "outputs": [],
   "source": [
    "X_train.shape, y_train.shape, X_valid.shape, y_valid.shape"
   ]
  },
  {
   "cell_type": "code",
   "execution_count": null,
   "metadata": {},
   "outputs": [],
   "source": [
    "use_cuda = True\n",
    "if use_cuda:\n",
    "    device = 'cuda'\n",
    "else:\n",
    "    device = 'cpu'"
   ]
  },
  {
   "cell_type": "code",
   "execution_count": null,
   "metadata": {},
   "outputs": [],
   "source": [
    "torch.cuda.is_available()"
   ]
  },
  {
   "cell_type": "code",
   "execution_count": null,
   "metadata": {},
   "outputs": [],
   "source": [
    "class MacroEconomicModel(nn.Module):\n",
    "    def __init__(self, input_size, hidden_size, output_size, num_layers):\n",
    "        super(MacroEconomicModel, self).__init__()\n",
    "        self.rnn = nn.LSTM(input_size, hidden_size, num_layers, batch_first=True)\n",
    "        self.fc = nn.Linear(hidden_size, output_size)\n",
    "\n",
    "    def forward(self, x):\n",
    "        out, _ = self.rnn(x)\n",
    "        out = self.fc(out[:, -1, :])  # Используйте только последний временной шаг для предсказания\n",
    "        return out\n",
    "\n",
    "# Определение размеров входных и выходных данных\n",
    "input_size = 3  # Размерность данных о приросте ВВП, инфляции и процентной ставке\n",
    "hidden_size = 64  # Размер скрытого состояния RNN\n",
    "output_size = 15  # Размер параметров модели\n",
    "num_layers = 2  # Количество слоев LSTM     \n",
    "                                \n",
    "# Создание экземпляра модели\n",
    "model = MacroEconomicModel(input_size, hidden_size, output_size, num_layers).to(device=device)\n",
    "\n",
    "# Определение функции потерь и оптимизатора\n",
    "criterion = nn.MSELoss()\n",
    "\n",
    "optimizer = torch.optim.Adam(model.parameters(), lr=0.001)"
   ]
  },
  {
   "cell_type": "code",
   "execution_count": null,
   "metadata": {},
   "outputs": [],
   "source": [
    "# Преобразование данных в тензоры PyTorch\n",
    "y_train = torch.Tensor(y_train)\n",
    "X_train = torch.Tensor(X_train)\n",
    "\n",
    "y_valid = torch.Tensor(y_valid)\n",
    "X_valid = torch.Tensor(X_valid)\n",
    "\n",
    "\n",
    "batch_size = 180\n",
    "kwargs = {'num_workers': 4, 'pin_memory': True} if use_cuda else {}\n",
    "train_dataset = TensorDataset(y_train, X_train)\n",
    "train_loader = DataLoader(train_dataset, batch_size=batch_size, shuffle=False, **kwargs)\n",
    "\n",
    "valid_dataset = TensorDataset(y_valid, X_valid)\n",
    "valid_loader = DataLoader(valid_dataset, batch_size=batch_size, shuffle=False, **kwargs)\n",
    "\n",
    "sss = int(X_train.shape[0]/batch_size+1)\n",
    "# Обучение модели\n",
    "num_epochs = 10  # Количество эпох обучения\n",
    "history = {\n",
    "    'training_loss':[],\n",
    "    'validation_loss':[]\n",
    "}\n",
    "for epoch in range(num_epochs):\n",
    "    model.train()\n",
    "    batch_losses = []#.to(device)\n",
    "    for batch in train_loader:\n",
    "        inputs, targets = batch\n",
    "        inputs, targets = inputs.to(device), targets.to(device)\n",
    "        # Обнуляем градиенты\n",
    "        optimizer.zero_grad()\n",
    "\n",
    "        # Проход вперед (forward pass)\n",
    "        outputs = model(inputs)\n",
    "\n",
    "        # Вычисление функции потерь\n",
    "        loss = torch.sqrt(criterion(outputs, targets.squeeze()))\n",
    "        #batch_losses.append(loss.detach().numpy())\n",
    "        batch_losses.append(loss.item())\n",
    "        loss.backward()\n",
    "        optimizer.step()\n",
    "    #print(len(batch_losses))\n",
    "    training_loss = np.mean(batch_losses)\n",
    "    \n",
    "    with torch.no_grad():\n",
    "        batch_val_losses = []\n",
    "        for batch_val in valid_loader:\n",
    "            inputs_val, targets_val = batch_val\n",
    "            inputs_val, targets_val = inputs_val.to(device), targets_val.to(device)\n",
    "            #print(inputs_val.shape, targets_val.shape)\n",
    "            model.eval()\n",
    "\n",
    "            # Проход вперед (forward pass)\n",
    "            outputs_val = model(inputs_val)\n",
    "\n",
    "            # Вычисление функции потерь\n",
    "            loss_val = torch.sqrt(criterion(outputs_val, targets_val.squeeze()))\n",
    "            batch_val_losses.append(loss_val)\n",
    "            #print(batch_val_losses)\n",
    "           # print(type(batch_val_losses))\n",
    "            validation_loss = torch.mean(torch.stack(batch_val_losses))\n",
    "\n",
    "\n",
    "\n",
    "    # Выводим информацию о процессе обучения\n",
    "    #print(f'Эпоха [{epoch + 1}/{num_epochs}], Потери train: {loss.item()}')\n",
    "    print(f'Эпоха [{epoch + 1}/{num_epochs}], Потери train: {training_loss.item()}, Loss valid: {validation_loss.item()}')\n",
    "    history['training_loss'].append(training_loss.item())\n",
    "    history['validation_loss'].append(validation_loss.item())"
   ]
  },
  {
   "cell_type": "code",
   "execution_count": null,
   "metadata": {},
   "outputs": [],
   "source": [
    "print(history)\n",
    "from matplotlib import pyplot as plt\n",
    "#plt.plot(torch.stack(history['training_loss']).cpu())\n",
    "plt.plot(history['training_loss'])\n",
    "plt.plot(history['validation_loss'])\n",
    "plt.title('model loss')\n",
    "plt.ylabel('loss')\n",
    "plt.xlabel('epoch')\n",
    "plt.legend(['train', 'val'], loc='upper left')\n",
    "plt.show()"
   ]
  },
  {
   "cell_type": "code",
   "execution_count": null,
   "metadata": {},
   "outputs": [],
   "source": [
    "torch.save(model.state_dict(), 'trained_model_1000000.pth')"
   ]
  },
  {
   "cell_type": "code",
   "execution_count": null,
   "metadata": {},
   "outputs": [],
   "source": [
    "outputs_val.shape"
   ]
  },
  {
   "cell_type": "markdown",
   "metadata": {},
   "source": [
    "----\n",
    "### Prediction"
   ]
  },
  {
   "cell_type": "code",
   "execution_count": null,
   "metadata": {},
   "outputs": [],
   "source": [
    "y_smp_test = np.load('data/y_smp_test.npy')\n",
    "y_test = torch.Tensor(y_smp_test)\n",
    "y_test.shape"
   ]
  },
  {
   "cell_type": "code",
   "execution_count": null,
   "metadata": {},
   "outputs": [],
   "source": [
    "# Create dataloader\n",
    "test_dataset = TensorDataset(y_test)\n",
    "test_loader = DataLoader(test_dataset, batch_size=batch_size, shuffle=False)"
   ]
  },
  {
   "cell_type": "code",
   "execution_count": null,
   "metadata": {},
   "outputs": [],
   "source": [
    "# Evalute model on test data\n",
    "with torch.no_grad():\n",
    "    all_outputs_test = []\n",
    "    for batch in test_loader:\n",
    "        inputs_test = batch[0]\n",
    "        inputs_test = inputs_test.to(device=device)\n",
    "        model.eval()\n",
    "\n",
    "        outputs_test = model(inputs_test).unsqueeze(2)\n",
    "        all_outputs_test.append(outputs_test)\n",
    "\n",
    "    # Concat to common tensor\n",
    "    final_outputs_test = torch.cat(all_outputs_test, dim=0)"
   ]
  },
  {
   "cell_type": "code",
   "execution_count": null,
   "metadata": {},
   "outputs": [],
   "source": [
    "batch_size = 5  # Window size\n",
    "\n",
    "# Empty tensor for saving result\n",
    "result = torch.zeros((final_outputs_test.size(0), final_outputs_test.size(1), 6))\n",
    "\n",
    "for i in range(0, final_outputs_test.size(0), batch_size):\n",
    "    batch = final_outputs_test[i:i+batch_size]\n",
    "    \n",
    "    # Calculate mean\n",
    "    batch_mean = torch.mean(batch, dim=0).squeeze(1)\n",
    "\n",
    "    # Sort batch for calculate quantiles\n",
    "    sorted_batch, _ = torch.sort(batch, dim=0)\n",
    "\n",
    "    quantiles = torch.quantile(sorted_batch, torch.Tensor([0.1, 0.25, 0.5, 0.75, 0.9]), dim=0).to(device=device)\n",
    "\n",
    "    # Save to final tensor\n",
    "    result[i:i+batch_size, :, 0] = batch_mean\n",
    "    result[i:i+batch_size, :, 1:6] = quantiles\n",
    "\n",
    "result.shape"
   ]
  },
  {
   "cell_type": "code",
   "execution_count": null,
   "metadata": {},
   "outputs": [],
   "source": [
    "batch_size = 5  # Window size\n",
    "\n",
    "# Empty tensor for saving result\n",
    "result = torch.zeros((final_outputs_test.size(0), final_outputs_test.size(1), 6))\n",
    "\n",
    "for i in range(0, final_outputs_test.size(0), batch_size):\n",
    "    batch = final_outputs_test[i:i+batch_size]\n",
    "    \n",
    "    # Calculate mean\n",
    "    batch_mean = torch.mean(batch, dim=0).squeeze(1)\n",
    "\n",
    "    # Sort batch for calculate quantiles\n",
    "    sorted_batch, _ = torch.sort(batch, dim=0)\n",
    "    sorted_batch = sorted_batch.to(device=device)\n",
    "    quantiles = torch.quantile(sorted_batch, torch.Tensor([0.1, 0.25, 0.5, 0.75, 0.9]).to(device=device), dim=0)\n",
    "\n",
    "    # Save to final tensor\n",
    "    result[i:i+batch_size, :, 0] = batch_mean\n",
    "    result[i:i+batch_size, :, 1:6] = quantiles\n",
    "\n",
    "result.shape"
   ]
  },
  {
   "cell_type": "code",
   "execution_count": null,
   "metadata": {},
   "outputs": [],
   "source": [
    "np.save(file='submission.npy', arr=result)"
   ]
  }
 ],
 "metadata": {
  "kernelspec": {
   "display_name": "Python 3",
   "language": "python",
   "name": "python3"
  },
  "language_info": {
   "codemirror_mode": {
    "name": "ipython",
    "version": 3
   },
   "file_extension": ".py",
   "mimetype": "text/x-python",
   "name": "python",
   "nbconvert_exporter": "python",
   "pygments_lexer": "ipython3",
   "version": "3.10.12"
  }
 },
 "nbformat": 4,
 "nbformat_minor": 2
}
