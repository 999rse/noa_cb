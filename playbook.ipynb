{
 "cells": [
  {
   "cell_type": "code",
   "execution_count": 1,
   "metadata": {},
   "outputs": [],
   "source": [
    "import pandas as pd\n",
    "import numpy as np\n",
    "\n",
    "from sklearn.model_selection import train_test_split\n",
    "#from sklearn.metrics import \n",
    "\n",
    "import torch\n",
    "import torch.nn as nn\n",
    "from torch.utils.data import DataLoader, TensorDataset"
   ]
  },
  {
   "cell_type": "markdown",
   "metadata": {},
   "source": [
    "-----\n",
    "### Train, valid split"
   ]
  },
  {
   "cell_type": "code",
   "execution_count": 2,
   "metadata": {},
   "outputs": [],
   "source": [
    "X_train, X_valid, y_train, y_valid = train_test_split(np.load('data/pars_smp_train.npy'), np.load('data/y_smp_train.npy'), test_size=0.2, shuffle=False, random_state=178)"
   ]
  },
  {
   "cell_type": "code",
   "execution_count": null,
   "metadata": {},
   "outputs": [],
   "source": [
    "class MacroEconomicModel(nn.Module):\n",
    "    def __init__(self, input_size, hidden_size, output_size, num_layers):\n",
    "        super(MacroEconomicModel, self).__init__()\n",
    "        self.rnn = nn.LSTM(input_size, hidden_size, num_layers, batch_first=True)\n",
    "        self.fc = nn.Linear(hidden_size, output_size)\n",
    "\n",
    "    def forward(self, x):\n",
    "        out, _ = self.rnn(x)\n",
    "        out = self.fc(out[:, -1, :])  # Используйте только последний временной шаг для предсказания\n",
    "        return out\n",
    "\n",
    "# Определение размеров входных и выходных данных\n",
    "input_size = 3  # Размерность данных о приросте ВВП, инфляции и процентной ставке\n",
    "hidden_size = 64  # Размер скрытого состояния RNN\n",
    "output_size = 15  # Размер параметров модели\n",
    "num_layers = 2  # Количество слоев LSTM\n",
    "\n",
    "# Создание экземпляра модели\n",
    "model = MacroEconomicModel(input_size, hidden_size, output_size, num_layers)\n",
    "\n",
    "# Определение функции потерь и оптимизатора\n",
    "criterion = nn.MSELoss()\n",
    "optimizer = torch.optim.Adam(model.parameters(), lr=0.001)"
   ]
  },
  {
   "cell_type": "code",
   "execution_count": null,
   "metadata": {},
   "outputs": [],
   "source": [
    "# Преобразование данных в тензоры PyTorch\n",
    "y_smp_train_T = torch.Tensor(y_smp_train)\n",
    "pars_smp_train_T = torch.Tensor(pars_smp_train)\n",
    "\n",
    "batch_size = 15\n",
    "train_dataset = TensorDataset(y_smp_train_T, pars_smp_train_T)\n",
    "train_loader = DataLoader(train_dataset, batch_size=batch_size, shuffle=True)\n",
    "\n",
    "# Обучение модели\n",
    "num_epochs = 10  # Количество эпох обучения\n",
    "for epoch in range(num_epochs):\n",
    "    for batch in train_loader:\n",
    "        inputs, targets = batch\n",
    "\n",
    "        # Обнуляем градиенты\n",
    "        optimizer.zero_grad()\n",
    "\n",
    "        # Проход вперед (forward pass)\n",
    "        outputs = model(inputs)\n",
    "\n",
    "        # Вычисление функции потерь\n",
    "        loss = criterion(outputs, targets)\n",
    "\n",
    "        # Обратное распространение (backward pass) и оптимизация\n",
    "        loss.backward()\n",
    "        optimizer.step()\n",
    "\n",
    "    # Выводим информацию о процессе обучения\n",
    "    print(f'Эпоха [{epoch + 1}/{num_epochs}], Потери: {loss.item()}')"
   ]
  }
 ],
 "metadata": {
  "kernelspec": {
   "display_name": "Python 3",
   "language": "python",
   "name": "python3"
  },
  "language_info": {
   "codemirror_mode": {
    "name": "ipython",
    "version": 3
   },
   "file_extension": ".py",
   "mimetype": "text/x-python",
   "name": "python",
   "nbconvert_exporter": "python",
   "pygments_lexer": "ipython3",
   "version": "3.10.12"
  }
 },
 "nbformat": 4,
 "nbformat_minor": 2
}
