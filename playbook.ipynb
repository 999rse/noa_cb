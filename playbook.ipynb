{
 "cells": [
  {
   "cell_type": "code",
   "execution_count": 1,
   "metadata": {},
   "outputs": [],
   "source": [
    "import pandas as pd\n",
    "import numpy as np\n",
    "\n",
    "from sklearn.model_selection import train_test_split\n",
    "#from sklearn.metrics import \n",
    "\n",
    "import torch\n",
    "import torch.nn as nn\n",
    "from torch.utils.data import DataLoader, TensorDataset"
   ]
  },
  {
   "cell_type": "markdown",
   "metadata": {},
   "source": [
    "-----\n",
    "### Train, valid split"
   ]
  },
  {
   "cell_type": "code",
   "execution_count": 17,
   "metadata": {},
   "outputs": [],
   "source": [
    "pars_smp_train = np.load('data/pars_smp_train.npy')\n",
    "y_smp_train = np.load('data/y_smp_train.npy')"
   ]
  },
  {
   "cell_type": "code",
   "execution_count": 18,
   "metadata": {},
   "outputs": [
    {
     "data": {
      "text/plain": [
       "((1000000, 15, 1), (1000000, 200, 3))"
      ]
     },
     "execution_count": 18,
     "metadata": {},
     "output_type": "execute_result"
    }
   ],
   "source": [
    "pars_smp_train.shape, y_smp_train.shape"
   ]
  },
  {
   "cell_type": "code",
   "execution_count": 23,
   "metadata": {},
   "outputs": [
    {
     "data": {
      "text/plain": [
       "(100, 200, 3)"
      ]
     },
     "execution_count": 23,
     "metadata": {},
     "output_type": "execute_result"
    }
   ],
   "source": [
    "y_smp_train[:100].shape"
   ]
  },
  {
   "cell_type": "code",
   "execution_count": 37,
   "metadata": {},
   "outputs": [],
   "source": [
    "small_pars_smp_train = pars_smp_train[:100].copy()\n",
    "small_y_smp_train = y_smp_train[:100].copy()"
   ]
  },
  {
   "cell_type": "code",
   "execution_count": 38,
   "metadata": {},
   "outputs": [],
   "source": [
    "X_train, X_valid, y_train, y_valid = train_test_split(small_pars_smp_train, small_y_smp_train, test_size=0.2, shuffle=False, random_state=178)"
   ]
  },
  {
   "cell_type": "code",
   "execution_count": 39,
   "metadata": {},
   "outputs": [
    {
     "data": {
      "text/plain": [
       "((80, 15, 1), (80, 200, 3), (20, 15, 1), (20, 200, 3))"
      ]
     },
     "execution_count": 39,
     "metadata": {},
     "output_type": "execute_result"
    }
   ],
   "source": [
    "X_train.shape, y_train.shape, X_valid.shape, y_valid.shape"
   ]
  },
  {
   "cell_type": "code",
   "execution_count": 40,
   "metadata": {},
   "outputs": [],
   "source": [
    "class MacroEconomicModel(nn.Module):\n",
    "    def __init__(self, input_size, hidden_size, output_size, num_layers):\n",
    "        super(MacroEconomicModel, self).__init__()\n",
    "        self.rnn = nn.LSTM(input_size, hidden_size, num_layers, batch_first=True)\n",
    "        self.fc = nn.Linear(hidden_size, output_size)\n",
    "\n",
    "    def forward(self, x):\n",
    "        out, _ = self.rnn(x)\n",
    "        out = self.fc(out[:, -1, :])  # Используйте только последний временной шаг для предсказания\n",
    "        return out\n",
    "\n",
    "# Определение размеров входных и выходных данных\n",
    "input_size = 3  # Размерность данных о приросте ВВП, инфляции и процентной ставке\n",
    "hidden_size = 64  # Размер скрытого состояния RNN\n",
    "output_size = 15  # Размер параметров модели\n",
    "num_layers = 2  # Количество слоев LSTM\n",
    "\n",
    "# Создание экземпляра модели\n",
    "model = MacroEconomicModel(input_size, hidden_size, output_size, num_layers)\n",
    "\n",
    "# Определение функции потерь и оптимизатора\n",
    "criterion = nn.MSELoss()\n",
    "optimizer = torch.optim.Adam(model.parameters(), lr=0.001)"
   ]
  },
  {
   "cell_type": "code",
   "execution_count": 46,
   "metadata": {},
   "outputs": [],
   "source": [
    "# Преобразование данных в тензоры PyTorch\n",
    "y_train = torch.Tensor(y_train)\n",
    "X_train = torch.Tensor(X_train)\n",
    "\n",
    "y_valid = torch.Tensor(y_valid)\n",
    "X_valid = torch.Tensor(X_valid)\n",
    "\n",
    "batch_size = 15\n",
    "train_dataset = TensorDataset(y_train, X_train)\n",
    "train_loader = DataLoader(train_dataset, batch_size=batch_size, shuffle=False)\n",
    "\n",
    "valid_dataset = TensorDataset(y_valid, X_valid)\n",
    "valid_loader = DataLoader(valid_dataset, batch_size=batch_size, shuffle=False)\n",
    "\n",
    "# Обучение модели\n",
    "num_epochs = 10  # Количество эпох обучения\n",
    "for epoch in range(num_epochs):\n",
    "    batch_losses = []\n",
    "    for batch in train_loader:\n",
    "        inputs, targets = batch\n",
    "        # Обнуляем градиенты\n",
    "        optimizer.zero_grad()\n",
    "\n",
    "        # Проход вперед (forward pass)\n",
    "        outputs = model(inputs)\n",
    "\n",
    "        # Вычисление функции потерь\n",
    "        loss = torch.sqrt(criterion(outputs, targets.squeeze()))\n",
    "        batch_losses.append(loss)\n",
    "\n",
    "        loss.backward()\n",
    "        optimizer.step()\n",
    "\n",
    "    #training_loss = np.mean(batch_losses)\n",
    "    \n",
    "    with torch.no_grad():\n",
    "        batch_val_losses = []\n",
    "        for batch_val in valid_loader:\n",
    "            inputs_val, targets_val = batch_val\n",
    "\n",
    "            model.eval()\n",
    "\n",
    "            # Проход вперед (forward pass)\n",
    "            outputs_val = model(inputs)\n",
    "\n",
    "            # Вычисление функции потерь\n",
    "            loss_val = torch.sqrt(criterion(outputs_val, targets_val.squeeze()))\n",
    "            batch_val_losses.append(loss_val)\n",
    "\n",
    "            #validation_loss = np.mean(batch_val_losses)\n",
    "\n",
    "\n",
    "\n",
    "    # Выводим информацию о процессе обучения\n",
    "    #print(f'Эпоха [{epoch + 1}/{num_epochs}], Потери train: {loss.item()}')\n",
    "    print(f'Эпоха [{epoch + 1}/{num_epochs}], Потери train: {batch_losses.item()}, Loss valid: {batch_val_losses.item()}')"
   ]
  }
 ],
 "metadata": {
  "kernelspec": {
   "display_name": "Python 3",
   "language": "python",
   "name": "python3"
  },
  "language_info": {
   "codemirror_mode": {
    "name": "ipython",
    "version": 3
   },
   "file_extension": ".py",
   "mimetype": "text/x-python",
   "name": "python",
   "nbconvert_exporter": "python",
   "pygments_lexer": "ipython3",
   "version": "3.10.12"
  }
 },
 "nbformat": 4,
 "nbformat_minor": 2
}
